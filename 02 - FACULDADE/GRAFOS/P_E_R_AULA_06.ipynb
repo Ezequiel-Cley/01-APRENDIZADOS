{
 "cells": [
  {
   "cell_type": "markdown",
   "id": "cd987227",
   "metadata": {},
   "source": [
    "# Criando classes para funcionar como pilha e outra como Fila"
   ]
  },
  {
   "cell_type": "code",
   "execution_count": null,
   "id": "e75e5745",
   "metadata": {},
   "outputs": [],
   "source": [
    "# Classe para Pilha (Stack)\n",
    "class Pilha:\n",
    "    def __init__(self):\n",
    "        self.itens = []\n",
    "\n",
    "    def push(self, item):\n",
    "        self.itens.append(item)  # Adiciona no topo da pilha\n",
    "\n",
    "    def pop(self):\n",
    "        if self.vazia():\n",
    "            print(\"Erro: a pilha está vazia. Nada a remover.\")\n",
    "            return None\n",
    "        return self.itens.pop()  # Remove do topo da pilha\n",
    "\n",
    "    def topo(self):\n",
    "        if self.vazia():\n",
    "            print(\"A pilha está vazia.\")\n",
    "            return None\n",
    "        return self.itens[-1]  # Último elemento inserido\n",
    "\n",
    "    def vazia(self):\n",
    "        return len(self.itens) == 0"
   ]
  },
  {
   "cell_type": "code",
   "execution_count": 2,
   "id": "ade1e18e",
   "metadata": {},
   "outputs": [],
   "source": [
    "# Classe para Fila (Queue)\n",
    "class Fila:\n",
    "    def __init__(self):\n",
    "        self.itens = []\n",
    "\n",
    "    def enqueue(self, item):\n",
    "        self.itens.append(item)  # Adiciona no final da fila\n",
    "\n",
    "    def dequeue(self):\n",
    "        if self.vazia():\n",
    "            print(\"Erro: a fila está vazia. Nada a remover.\")\n",
    "            return None\n",
    "        return self.itens.pop(0)  # Remove do início da fila\n",
    "\n",
    "    def frente(self):\n",
    "        if self.vazia():\n",
    "            print(\"A fila está vazia.\")\n",
    "            return None\n",
    "        return self.itens[0]  # Primeiro a ser removido\n",
    "\n",
    "    def vazia(self):\n",
    "        return len(self.itens) == 0"
   ]
  },
  {
   "cell_type": "markdown",
   "id": "eb716f9a",
   "metadata": {},
   "source": [
    "# Realizado os testes com as classes"
   ]
  },
  {
   "cell_type": "code",
   "execution_count": null,
   "id": "7267d0a9",
   "metadata": {},
   "outputs": [
    {
     "name": "stdout",
     "output_type": "stream",
     "text": [
      "Testando a Pilha:\n",
      "Elemento no topo da pilha: 3\n",
      "\n"
     ]
    }
   ],
   "source": [
    "# ---------------------\n",
    "# Testes para a Pilha\n",
    "# ---------------------\n",
    "print(\"Testando a Pilha:\")\n",
    "pilha = Pilha()\n",
    "for i in range(1, 6):\n",
    "    pilha.push(i)  # Inserindo 1 a 5\n",
    "\n",
    "pilha.pop()  # Remove 5\n",
    "pilha.pop()  # Remove 4\n",
    "\n",
    "print(\"Elemento no topo da pilha:\", pilha.topo())  # Deve ser 3\n",
    "print()"
   ]
  },
  {
   "cell_type": "code",
   "execution_count": null,
   "id": "85d6c5eb",
   "metadata": {},
   "outputs": [
    {
     "name": "stdout",
     "output_type": "stream",
     "text": [
      "Testando a Fila:\n",
      "Próximo elemento a ser removido da fila: 4\n"
     ]
    }
   ],
   "source": [
    "# ---------------------\n",
    "# Testes para a Fila\n",
    "# ---------------------\n",
    "print(\"Testando a Fila:\")\n",
    "fila = Fila()\n",
    "for i in range(1, 6):\n",
    "    fila.enqueue(i)  # Inserindo 1 a 5\n",
    "\n",
    "fila.dequeue()  # Remove 1\n",
    "fila.dequeue()  # Remove 2\n",
    "fila.dequeue()  # Remove 3\n",
    "\n",
    "print(\"Próximo elemento a ser removido da fila:\", fila.frente())  # Deve ser 4"
   ]
  }
 ],
 "metadata": {
  "kernelspec": {
   "display_name": "base",
   "language": "python",
   "name": "python3"
  },
  "language_info": {
   "codemirror_mode": {
    "name": "ipython",
    "version": 3
   },
   "file_extension": ".py",
   "mimetype": "text/x-python",
   "name": "python",
   "nbconvert_exporter": "python",
   "pygments_lexer": "ipython3",
   "version": "3.12.7"
  }
 },
 "nbformat": 4,
 "nbformat_minor": 5
}
